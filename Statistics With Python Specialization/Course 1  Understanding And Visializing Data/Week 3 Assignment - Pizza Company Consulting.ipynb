{
 "cells": [
  {
   "cell_type": "markdown",
   "metadata": {},
   "source": [
    "# My review"
   ]
  },
  {
   "cell_type": "markdown",
   "metadata": {},
   "source": [
    "## Slice Device"
   ]
  },
  {
   "cell_type": "markdown",
   "metadata": {},
   "source": [
    "House of Slices is located in the suburban area with a market complex. So, we should target the general population there and all the people who come to shop in the complex. Being in a residential area, families with kids will often visit the market complex and targeting them will help promote  our pizzeria. There is no better advertisement method than a loyal and satisfied customer. So, we should start by seeing what our customers want and what our kitchen can provide. Then we can use that information to come up with a plan to beat our competition, Pear-head Pizza.\n",
    "\n",
    "Phase 1:\n",
    "The first thing we need to do is set up our ingredients. We can use all organic ingredients to have an edge over other pizzerias and the quality of our ingredients will determine how our food will be perceived. Once we switch and set up our ingredients, we can take a survey from our kitchen staff to see if they are comfortable working in an open kitchen. This question serves two important purposes: \n",
    "Since families will tend to visit the pizzeria with their kids, an open kitchen will be fascinating to them and if we entertain them right, they will visit us again.\n",
    "It will increase the trust between the kitchen and the customers as they can come and see how their food is being prepared.\n",
    "We can hire someone to entertain those curious souls and further improve the customer experience.\n",
    "\n",
    "Phase 2:\n",
    "\n",
    "Once we are clear with our staff what we want to achieve, we can now focus on the customers. We can survey customers on how they would like their pizza, if they would like a customized menu and if they need facility to keep their groceries and other things so that they can enjoy their meal better. Since we are targeting families, we can add family friendly games on the table, like Jenga and Uno. We can also check if customers want their food to be delivered home within 5 miles. Using the results from the survey, we can further enhance our menu and provide better customer experience. Doing this will provide 3 things:\n",
    "It makes our pizzeria unique\n",
    "It will help us build a brand image.\n",
    "This allows customers to combine their preferred meats and vegetables for their pizza, letting them have fun while eating.\n",
    "The kids will not make too much trouble as they will either be looking at the live kitchen or playing one of those board games.\n",
    "However! we must first test what combinations go well with each other and take advice from the chef so that people don't end up combining something that will not taste good and would give us a bad name. It can be something like a sub, the customer can choose between the crust, the cheese and the toppings, combining some toppings. and so on.\n",
    "\n",
    "Phase 3:\n",
    "\n",
    "We can then check for patterns of what pizzas are sold most on what days and at what time, which sides are ordered most with what kind and size of pizza and see if we have any returning and regular customers. Using this information, we can create deals with discounts with pizzas and sides, special discounts for regular customers, like giving them a regular customer card that they can use to avail discounts on their orders and give them free home delivery and so on. \n",
    "\n",
    "Phase 4:\n",
    "\n",
    "We can finally begin our advertisement campaign with targeted brochures, emails, offers for people and discounts on larger groups and bigger orders. We can even provide customized menus for family events like birthday parties and so on. Our completely organic ingredient choice, the open kitchen, the family games and strategic offers will be our key selling points."
   ]
  }
 ],
 "metadata": {
  "kernelspec": {
   "display_name": "Python 3",
   "language": "python",
   "name": "python3"
  },
  "language_info": {
   "codemirror_mode": {
    "name": "ipython",
    "version": 3
   },
   "file_extension": ".py",
   "mimetype": "text/x-python",
   "name": "python",
   "nbconvert_exporter": "python",
   "pygments_lexer": "ipython3",
   "version": "3.8.2"
  }
 },
 "nbformat": 4,
 "nbformat_minor": 4
}
