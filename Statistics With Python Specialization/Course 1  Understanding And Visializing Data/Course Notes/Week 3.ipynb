{
 "cells": [
  {
   "cell_type": "markdown",
   "metadata": {},
   "source": [
    "# Multivariate Categorical Data"
   ]
  },
  {
   "cell_type": "markdown",
   "metadata": {},
   "source": [
    "## Pitfall: Simpson's Paradox\n",
    "In this section, we’re going to introduce a Pitfall within Statistics: Simpson’s Paradox.\n",
    "\n",
    "What if I told you that the rate of completing Course 2 after you’ve completed Course 1 of a Specialization is higher for males than for females? What would you think?\n",
    "\n",
    "Now, what if I told you that more males are enrolled in a full Specialization, while more females are interested in taking each course as a freestanding course? Does that change how you think about the situation?\n",
    "\n",
    "What might actually be happening is that there are different rates of Course 2 completion for those in the Specialization versus those taking freestanding courses, and that the gender ratio may also be different for those two situations."
   ]
  },
  {
   "cell_type": "markdown",
   "metadata": {},
   "source": [
    "        Specialization\tCourse\t     Total\n",
    "Men\t    55/70 (79%)\t    10/20 (50%)\t 65/90 (72%)\n",
    "Women\t25/30 (83%)\t    17/30 (57%)\t 42/60 (70%)\n",
    "Total\t80/100 (80%)\t27/50 (54%)\t\n",
    "\n",
    "You may notice that the completion rate of Course 2 is higher for women within each of the methods of taking this course, but overall it appears that the completion rate of Course 2 is higher for men. The way of taking courses hides the true direction of the relationship between gender and completion rate of Course 2.\n",
    "\n",
    "The method of taking the course can be considered a confounding variable. A confounding variable is an outside influence that changes the relationship between the independent and the dependent variable. It oftentimes works by affecting the causal relationship between the primary independent variable and the dependent variable. This confounding variable confuses the relationship between two other variables; it may act by hiding, obscuring, or enhancing the existing relationship.\n",
    "\n",
    "For example, suppose that you are interested in examining how activity level affects weight change. Other factors, like diet, age, and gender may also affect weight change and come into play when looking at the relationship between activity level and weight change. If one doesn’t control for these factors, the relationship between activity level and weight change can be distorted.\n",
    "\n",
    "This also serves as a reminder that Correlation does not imply Causation. There may be other factors involved with a causal relationship. For this reason, you shouldn’t place too much stock in correlation alone.\n",
    "\n",
    "There are many other examples of Simpson’s Paradox, including [this article on the relationship between gender and Nobel prize awards](https://www.significancemagazine.com/science/294-the-nobel-prize-gender-gap?highlight=WyJwYXJhZG94Il0=). In the next discussion, you’ll have a chance to think about some examples of Simpson’s Paradox in your daily life."
   ]
  },
  {
   "cell_type": "markdown",
   "metadata": {},
   "source": [
    "Modern Ways to Visualize Data\n",
    "In this course, we have focused on visualizations like box plots, histograms, bar charts, pie charts, and scatterplots. But these are not the only ways to visualize data. As data becomes more complex and as people try to present data in more interesting and readable ways, new visualizations have emerged. Feel free to check out the links below for some cool examples.\n",
    "\n",
    "While viewing them, think through:\n",
    "\n",
    "* What about this visualization made it easy or hard to understand the data?\n",
    "* Why do you think this visualization was used instead of other visualizations we discussed in the course?\n",
    "* Could this visualization be used for other kinds of data?\n",
    "\n",
    "**Want to see how selfies are taken across the world?**  [Check out this website](http://selfiecity.net/selfiexploratory/) to see different categories of selfies in 5 different cities.**\n",
    "\n",
    "**Want to see how economic inequality has changed over time?** [Look at this article](https://ourworldindata.org/income-inequality) to see how a series of data visualizations are used to tell a story about the global economy.\n",
    "\n",
    "[**Check out this visualization**](https://www.washingtonpost.com/wp-srv/special/sports/wizards-shooting-stars/) of shot attempts of the Washington Wizards, an NBA team.\n",
    "\n",
    "**Want to see how music popularity has changed over time?** [Check out this cool visualization](https://music-timeline.appspot.com/#). You can click different genres for a further breakdown.\n",
    "\n",
    "**Want to know what ages certain people get married?** [Check out this interactive visualization](https://flowingdata.com/2016/03/03/marrying-age/) that allows you to understand the marriage age of different groups of people.\n",
    "\n",
    "**Want to know how different cities rank in terms of social, environmental and financial well being?** [Check out the visualization here](https://www.nationalgeographic.com/environment/urban-expeditions/green-buildings/sustainable-cities-graphic-urban-expeditions/) to see how different cities compare.\n",
    "\n",
    "**How many times did the song “Total Eclipse of the Heart” get streamed during the 2017 solar eclipse?** [Check out the visualization here](https://insights.spotify.com/tw/2017/08/24/data-viz-total-eclipse-of-the-heart-follows-the-eclipse/), which takes you through time: ***ERROR 404 on this one***\n",
    "\n"
   ]
  },
  {
   "cell_type": "markdown",
   "metadata": {},
   "source": [
    "## A Few Notes for Providing High Quality Peer Review\n",
    "1. Use respectful language whether you are suggesting improvements to or praising your peer.\n",
    "\n",
    "2. Look over your peer’s memo to quickly get an overview of the piece.\n",
    "\n",
    "3. Next, read the memo more slowly keeping the rubric in mind.\n",
    "\n",
    "4. As you re-read, note the pieces of texts that let you directly address the rubric prompts in your online responses.\n",
    "\n",
    "5. In your online responses, focus on larger issues (higher order concerns) of content and argument rather than lower order concerns like grammar and spelling.\n",
    "\n",
    "6. Be very specific in your responses, referring to your peer’s actual language, mentioning terms and concepts that are either present or missing, and following the directions in the rubric.\n",
    "\n",
    "7. Peer Review is important and helpful (to both the reviewer and receiver of the review), so be sure your online responses are detailed enough (minimum word count for each of the 4 criteria is 30 words).\n",
    "\n",
    "8. Peer Review is most helpful if received in a timely basis. Complete your thoughtful online feedback for all your assigned submissions ASAP so you can provide that feedback and thus earn your points for this helpful exercise.\n",
    "\n",
    "## Grading Criteria\n",
    "\n",
    "1. This memorandum should be written to be understandable to the company's CEO who has basic statistical literacy. Comment on whether this was achieved. What parts were written well? What parts would be more difficult to understand?\n",
    "\n",
    "2. The study design should be described in this memo. Comment on proposed research questions or claims that would be addressed. What is described well? What is missing? How might the description be improved?\n",
    "\n",
    "3. Comment on the proposed variables that would be recorded. What is described well? What is missing? How might the description be improved? Do they generally align well with the proposed research questions or claims? Is there enough detail so the company's CEO will generally understand what is proposed to be measured and how it would be measured?\n",
    "\n",
    "4. Comment on the proposed graphical and numerical summaries. What is described well? What is missing? How might the descriptions be improved? Do they generally align well with the proposed research questions or claims? Do they align with the type of data that is being recorded?"
   ]
  }
 ],
 "metadata": {
  "kernelspec": {
   "display_name": "Python 3",
   "language": "python",
   "name": "python3"
  },
  "language_info": {
   "codemirror_mode": {
    "name": "ipython",
    "version": 3
   },
   "file_extension": ".py",
   "mimetype": "text/x-python",
   "name": "python",
   "nbconvert_exporter": "python",
   "pygments_lexer": "ipython3",
   "version": "3.8.2"
  }
 },
 "nbformat": 4,
 "nbformat_minor": 4
}
