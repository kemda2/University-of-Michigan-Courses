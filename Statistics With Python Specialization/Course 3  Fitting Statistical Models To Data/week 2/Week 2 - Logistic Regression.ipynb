{
 "cells": [
  {
   "cell_type": "markdown",
   "metadata": {},
   "source": [
    "# Logistic Regression\n",
    "\n",
    "## [Overview of regression with binary outcomes](https://d3c33hcgiwev3.cloudfront.net/I4a-jPzqEeiAgQrXx6bp4g_259ad110fcea11e8a6c74b1d994cf613_Logistic-Regression-Overview.pdf?Expires=1597363200&Signature=faZtkuxhkkFZLeVsaqLFeoBFNi-7NQaSmQKf-wouOrwpRwDxikQwuRNJ8JiPrtN8f6ukjHdd78NPENGPOHquQDPME~quIz4Ed5~0IT8KO2YKiYUSAWRk-AYSJ96pX21llpXIA~KX1TaRf7WlnW8TGMr4nwjnjbo8igYQ-IicVR0_&Key-Pair-Id=APKAJLTNE6QMUY6HBC5A)"
   ]
  },
  {
   "cell_type": "markdown",
   "metadata": {},
   "source": [
    "Logistic regression is used when we have a bivariate data as our parameter of interest. <br>\n",
    "because, if we use a linear regression for bivariate data, we will end up having the linear line yhat = b0 + b1 * X cross 1 and then our model will predict stuff like beyond a certain value the probability is beyond 100 or less than 0 which doesn't make any sense.\n",
    "\n",
    "**In this case, we will use the cartwheel data again but: <br>\n",
    "Primary Variable of interest: Cartwheel completion: 0 = no, 1 = completed**\n",
    "\n",
    "**We will predict it based on their age**\n",
    "\n",
    "## Logit Transformation\n",
    "* Higher the value on the logit function, higher is the probability of success\n",
    "* Lower the value on the logit function, lower is the probability of success\n",
    "* The Logit graph is symmetric \n",
    "* It goes to infinity and negative infinity\n",
    "![logit-transformation](week-2-img/logit-transformation-1.png)\n",
    "\n",
    "### However if we want to estimate the probability of someone whose age is beyond 60 or kess than 20, we will not get a good output because our model is fit under the values from [22,55]. Trying to predict beyond these values is called extrapolation.\n",
    "![logit-transformation](week-2-img/logistic-line.png)\n",
    "So finding the probability of completing a cartwheel by someone who is 15 years old would be 20% which is most likely not the case. This is an example of **extrapolation. This is not a reliable way to estimate the probability.**\n",
    "\n",
    "## Logistic Regression Equation\n",
    "\n",
    "The slope isn't easy to interpret unline in a linear regression context as our Y is not as simple. \n",
    "![logit-transformation](week-2-img/logistic-regression-eqn-1.png)\n",
    "\n",
    "![logit-transformation](week-2-img/logistic-regression-eqn-2.png)\n",
    "\n",
    "## Prediction Uncertainity \n",
    "\n",
    "The prediction uncertainty shows how much we trust the line.\n",
    "![logit-transformation](week-2-img/predictive-uncertainty-linear-reg.png)\n",
    "\n",
    "![logit-transformation](week-2-img/predictive-uncertainty-logistic-reg.png)\n",
    "\n",
    "In the second graph we see that our probability estimates for the higher values go from about 0 to about 100%. So we are not sure if that is an accurate line. This is aprtly due to the fact that we only have 25 observations.\n",
    "\n",
    "![logit-transformation](week-2-img/assumptions.png)"
   ]
  },
  {
   "cell_type": "markdown",
   "metadata": {},
   "source": [
    "# Logistic Regression Inference\n",
    "(Confidence interval and hypothesis testing for the previous slope)\n",
    "\n",
    "![logit-transformation](week-2-img/logistic-line-2.png)\n",
    "\n",
    "\n",
    "z* is 1.96\n",
    "python gives us 95% confidence interval\n",
    "![logit-transformation](week-2-img/logistic-ce.png)\n",
    "\n",
    "Based on our confidence interval, is it true that our coefficient is significantly different from zero?\n",
    "\n",
    "### Hypothesis testing\n",
    "\n",
    "H0: B1 = 0 population slone (true slope) = 0<br>\n",
    "Ha: B1 != 0 two sided: we don't know how age should affect how successfully you complete a cartwheel. <br>\n",
    "So we are just seeing if age has any effect on completing a cartwheel. <br>\n",
    "\n",
    "Test statistic = b1 - 0 / (s.e(b1)) <br>\n",
    "z = 1.225 <br>\n",
    "p value = 0.221 <br>\n",
    "\n",
    "Based on our p-value of 0.221, should we reject or fail to reject the null hypothesis of an insignificant coefficient for age?\n",
    "\n",
    "\n",
    "* Fail to reject the null hypothesis\n",
    "* I can't tell\n",
    "    * Correct \n",
    "    * Good job! We haven’t been given a significance level (an alpha), so we don’t know what we should compare this p-value to as we make our decision.\n",
    "* Reject the null hypothesis\n",
    "\n",
    "So we will use an alpha of 0.05'\n",
    "\n",
    "![h0 reject](week-2-img/h0-reject.png)\n",
    "\n",
    "We also see that 0 is in the range of values of the confidence interval, so 0 is a reasonable value for our coefficient so we can no conclude that there is a significantly linear relationship that our slope is significantly different from 0.\n",
    "\n",
    "![h0 reject](week-2-img/summary-logistic-reg.png)\n",
    "\n"
   ]
  }
 ],
 "metadata": {
  "kernelspec": {
   "display_name": "Python 3",
   "language": "python",
   "name": "python3"
  },
  "language_info": {
   "codemirror_mode": {
    "name": "ipython",
    "version": 3
   },
   "file_extension": ".py",
   "mimetype": "text/x-python",
   "name": "python",
   "nbconvert_exporter": "python",
   "pygments_lexer": "ipython3",
   "version": "3.7.7"
  }
 },
 "nbformat": 4,
 "nbformat_minor": 4
}
