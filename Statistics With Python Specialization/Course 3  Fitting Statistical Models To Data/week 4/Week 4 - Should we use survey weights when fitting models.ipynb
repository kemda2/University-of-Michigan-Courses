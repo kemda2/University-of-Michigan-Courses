{
 "cells": [
  {
   "cell_type": "markdown",
   "metadata": {},
   "source": [
    "# Should we use survey weights when fitting models?\n",
    "\n",
    "**Survey Weights** <br>\n",
    "**Survey weights** may be available in data sets collected from **complex probability samples.** accounting for (at least) unequal probabilitues of selection into the sample for different cases. So, cases with a lower probability of being selected in a sample get higher weights\n",
    "\n",
    "**In theory** these weights are designed to enable unbiased estimation of selected parameters for a **finite target population** of interest. We use these weights to make inference about the finite target population and on average, our estimates will be equal to the true finite population parameters of interest.\n",
    "\n",
    "**Therefore,** we consider the case where an analyst wants to fit a regression model to a dependent variable (DV) collected from a probability sample and we know by looking at the data that there are weights in the data that represent, at the very least different probabilities of selection.\n",
    "\n",
    "The question is, **do we need to account for the weights** while fitting the regression model.\n",
    "\n",
    "## Using weights in estimation\n",
    "\n",
    "![umm](week-4-img/use-weights-in-estimation.png)\n",
    "\n",
    "**We want the best of both worlds. We want to use unbiased estimates of the regression parameters and we want to do our best to specify a correct model for our survey data of our finite population of interest.**\n",
    "\n",
    "### Weights but poor model:\n",
    "![umm](week-4-img/example-weights-poor-model.png)\n",
    "\n",
    "### Worst of both worlds:\n",
    "![umm](week-4-img/example-no-weights-poor-model.png)\n",
    "\n",
    "### No weights but good Model:\n",
    "![umm](week-4-img/example-no-weights-good-model.png)\n",
    "\n",
    "## Best of both inferential worlds:\n",
    "![umm](week-4-img/example-weights-good-model.png)\n",
    "\n",
    "## Recommendations for practice.\n",
    "\n",
    "**If we have survey weights available for a probability sample and we wish to fit a regression model:\n",
    "![umm](week-4-img/recommendation-1.png)\n",
    "1. **Think about:**\n",
    "    * the subject matter knowledge\n",
    "    * the predictive variables we have available\n",
    "    * look at the data and get some scatterplots \n",
    "    * **Make sure you are capturing relationships to the best of your knowledge in specifying the regression function for a given dependent variable.**\n",
    "    \n",
    "![umm](week-4-img/recommendation-2.png)\n",
    "2. Examine the sensitivity of your results and your inferences to the use of survey weights for estimation.\n",
    "    * In theory we are using these weights to come up with **population estimates** of these regression parameters\n",
    "    * but there is the drawback that if we have done a nice job of capturing relationships, using weights in estimation can inflate our standard errors.\n",
    "    * So always compare the estimates with and without the weights!\n",
    "    \n",
    "![umm](week-4-img/recommendation-3.png)\n",
    "3. If that's the case, the only thing the weights might be doing is inflating the standard error of the estimates.\n",
    "    * This is where comparing the estimated coefficients relative to the changes in the standard errors when using these two approaches becomes very important.\n",
    "\n",
    "![umm](week-4-img/recommendation-4.png)\n",
    "4. If we are not sure if we specified the model correctly, the coefficients changing substantially when using weights to not using weights imply that the weights carry imformation about the relationship we are trying to model in the population of interest.\n",
    "    * If we are not sure if we have the model correct, we still need to report what the population estimate of those regression parameters would be so that we can make inference about the finite population even if the model is not specified correctly.\n",
    "    * Like if we assume we have left out a predictor, or we weren't able to measure some important predictors, we should at least report the weighted population estimate so that we get a good unbiased estimate of the potentially misspecified model.\n",
    "\n",
    "![umm](week-4-img/know-this.png)"
   ]
  }
 ],
 "metadata": {
  "kernelspec": {
   "display_name": "Python 3",
   "language": "python",
   "name": "python3"
  },
  "language_info": {
   "codemirror_mode": {
    "name": "ipython",
    "version": 3
   },
   "file_extension": ".py",
   "mimetype": "text/x-python",
   "name": "python",
   "nbconvert_exporter": "python",
   "pygments_lexer": "ipython3",
   "version": "3.7.7"
  }
 },
 "nbformat": 4,
 "nbformat_minor": 4
}
